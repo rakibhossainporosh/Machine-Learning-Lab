{
  "nbformat": 4,
  "nbformat_minor": 0,
  "metadata": {
    "colab": {
      "provenance": [],
      "authorship_tag": "ABX9TyNHbnC3LXX9Y/eu0arxuPOb",
      "include_colab_link": true
    },
    "kernelspec": {
      "name": "python3",
      "display_name": "Python 3"
    },
    "language_info": {
      "name": "python"
    }
  },
  "cells": [
    {
      "cell_type": "markdown",
      "metadata": {
        "id": "view-in-github",
        "colab_type": "text"
      },
      "source": [
        "<a href=\"https://colab.research.google.com/github/rakibhossainporosh/Machine-Learning-Lab-1/blob/main/Question9.ipynb\" target=\"_parent\"><img src=\"https://colab.research.google.com/assets/colab-badge.svg\" alt=\"Open In Colab\"/></a>"
      ]
    },
    {
      "cell_type": "code",
      "execution_count": 1,
      "metadata": {
        "colab": {
          "base_uri": "https://localhost:8080/"
        },
        "id": "7uAw_D4dl-mg",
        "outputId": "2e93c6d2-1e1b-44f2-95b9-69e12f4bdbd0"
      },
      "outputs": [
        {
          "output_type": "stream",
          "name": "stdout",
          "text": [
            "Unique elements (order preserved): [2, 55, 4, 7, 1, 23]\n"
          ]
        }
      ],
      "source": [
        "my_list = [2, 55, 4, 2, 7, 55, 1, 23, 55]\n",
        "\n",
        "unique_list = []\n",
        "seen = set()\n",
        "\n",
        "for num in my_list:\n",
        "    if num not in seen:\n",
        "        unique_list.append(num)\n",
        "        seen.add(num)\n",
        "\n",
        "print(\"Unique elements (order preserved):\", unique_list)\n"
      ]
    },
    {
      "cell_type": "code",
      "source": [],
      "metadata": {
        "id": "TtMOJ8KBmagZ"
      },
      "execution_count": null,
      "outputs": []
    }
  ]
}