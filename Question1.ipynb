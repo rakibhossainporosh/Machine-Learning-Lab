{
  "nbformat": 4,
  "nbformat_minor": 0,
  "metadata": {
    "colab": {
      "provenance": [],
      "authorship_tag": "ABX9TyMefAvqHqlfaxncKhcJZKc4",
      "include_colab_link": true
    },
    "kernelspec": {
      "name": "python3",
      "display_name": "Python 3"
    },
    "language_info": {
      "name": "python"
    }
  },
  "cells": [
    {
      "cell_type": "markdown",
      "metadata": {
        "id": "view-in-github",
        "colab_type": "text"
      },
      "source": [
        "<a href=\"https://colab.research.google.com/github/rakibhossainporosh/Machine-Learning-Lab/blob/main/Question1.ipynb\" target=\"_parent\"><img src=\"https://colab.research.google.com/assets/colab-badge.svg\" alt=\"Open In Colab\"/></a>"
      ]
    },
    {
      "cell_type": "code",
      "execution_count": 2,
      "metadata": {
        "colab": {
          "base_uri": "https://localhost:8080/"
        },
        "id": "CKnwof-ic9Jb",
        "outputId": "55bc60f1-601a-4f59-8743-7b6458a6419f"
      },
      "outputs": [
        {
          "output_type": "stream",
          "name": "stdout",
          "text": [
            "Enter 1st value: 15\n",
            "Enter 2nd value: 4\n",
            "Sum:  19\n",
            "Sub:  11\n",
            "Multi:  60\n",
            "Div:  3.75\n",
            "Modulo:  3\n",
            "Power:  50625\n"
          ]
        }
      ],
      "source": [
        "x = int(input('Enter 1st value: '))\n",
        "y = int(input('Enter 2nd value: '))\n",
        "\n",
        "print ('Sum: ', x+y)\n",
        "print ('Sub: ', x-y)\n",
        "print ('Multi: ', x*y)\n",
        "print ('Div: ', x/y)\n",
        "print ('Modulo: ', x%y)\n",
        "print ('Power: ', x**y)"
      ]
    },
    {
      "cell_type": "code",
      "source": [],
      "metadata": {
        "id": "TYXgDvK3dSQ-"
      },
      "execution_count": null,
      "outputs": []
    }
  ]
}