{
  "nbformat": 4,
  "nbformat_minor": 0,
  "metadata": {
    "colab": {
      "provenance": [],
      "authorship_tag": "ABX9TyPnlG183R2mVHDHoAlTABrj",
      "include_colab_link": true
    },
    "kernelspec": {
      "name": "python3",
      "display_name": "Python 3"
    },
    "language_info": {
      "name": "python"
    }
  },
  "cells": [
    {
      "cell_type": "markdown",
      "metadata": {
        "id": "view-in-github",
        "colab_type": "text"
      },
      "source": [
        "<a href=\"https://colab.research.google.com/github/rakibhossainporosh/Machine-Learning-Lab-1/blob/main/Question8.ipynb\" target=\"_parent\"><img src=\"https://colab.research.google.com/assets/colab-badge.svg\" alt=\"Open In Colab\"/></a>"
      ]
    },
    {
      "cell_type": "code",
      "execution_count": 2,
      "metadata": {
        "colab": {
          "base_uri": "https://localhost:8080/"
        },
        "id": "kgG-PQ9_ldY9",
        "outputId": "10d33e9a-1d58-4f69-b580-4e17812a9dab"
      },
      "outputs": [
        {
          "output_type": "stream",
          "name": "stdout",
          "text": [
            "2 raised to the power of 3 is: 8\n"
          ]
        }
      ],
      "source": [
        "def calculate_power(base, exponent):\n",
        "    \"Recursively calculates base raised to the power of exponent.\"\n",
        "    if exponent == 0:\n",
        "        return 1\n",
        "    return base * calculate_power(base, exponent - 1)\n",
        "\n",
        "# Example usage\n",
        "base_number = 2\n",
        "power_value = 3\n",
        "result = calculate_power(base_number, power_value)\n",
        "print(f\"{base_number} raised to the power of {power_value} is: {result}\")\n"
      ]
    },
    {
      "cell_type": "code",
      "source": [],
      "metadata": {
        "id": "0Rz3SpU3lsK4"
      },
      "execution_count": null,
      "outputs": []
    }
  ]
}