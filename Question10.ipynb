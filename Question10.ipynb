{
  "nbformat": 4,
  "nbformat_minor": 0,
  "metadata": {
    "colab": {
      "provenance": [],
      "authorship_tag": "ABX9TyOPqg75Q26uoHqXs0CyoxA/",
      "include_colab_link": true
    },
    "kernelspec": {
      "name": "python3",
      "display_name": "Python 3"
    },
    "language_info": {
      "name": "python"
    }
  },
  "cells": [
    {
      "cell_type": "markdown",
      "metadata": {
        "id": "view-in-github",
        "colab_type": "text"
      },
      "source": [
        "<a href=\"https://colab.research.google.com/github/rakibhossainporosh/Machine-Learning-Lab-1/blob/main/Question10.ipynb\" target=\"_parent\"><img src=\"https://colab.research.google.com/assets/colab-badge.svg\" alt=\"Open In Colab\"/></a>"
      ]
    },
    {
      "cell_type": "code",
      "execution_count": 1,
      "metadata": {
        "id": "hoVG-QL7mz2T",
        "outputId": "9c4f83fc-9086-4c20-eb3b-ddd2bbd287a4",
        "colab": {
          "base_uri": "https://localhost:8080/"
        }
      },
      "outputs": [
        {
          "output_type": "stream",
          "name": "stdout",
          "text": [
            "Employee ID: 1\n",
            "Name: Mr. X, Age: 22\n",
            "Total Employees: 1\n",
            "------------------------------\n",
            "Employee ID: 2\n",
            "Name: Mr. Y, Age: 23\n",
            "Total Employees: 2\n",
            "------------------------------\n",
            "e1's Name: Mr. X\n",
            "e2's Age: 23\n"
          ]
        }
      ],
      "source": [
        "class Employee:\n",
        "    _emp_count: int = 0  # Protected class-level variable\n",
        "    _next_id: int = 1    # Auto-incremented employee ID\n",
        "\n",
        "    def __init__(self, name: str, age: int):\n",
        "        self.__name = name\n",
        "        self.__age = age\n",
        "        self.__emp_id = Employee._next_id\n",
        "        Employee._next_id += 1\n",
        "        Employee._emp_count += 1\n",
        "\n",
        "        self.display_info()\n",
        "\n",
        "    def display_info(self) -> None:\n",
        "        print(f\"Employee ID: {self.__emp_id}\")\n",
        "        print(f\"Name: {self.__name}, Age: {self.__age}\")\n",
        "        print(f\"Total Employees: {Employee.get_employee_count()}\")\n",
        "        print(\"-\" * 30)\n",
        "\n",
        "    # Getter methods\n",
        "    def get_name(self) -> str:\n",
        "        return self.__name\n",
        "\n",
        "    def get_age(self) -> int:\n",
        "        return self.__age\n",
        "\n",
        "    def get_id(self) -> int:\n",
        "        return self.__emp_id\n",
        "\n",
        "    # Setter methods\n",
        "    def set_name(self, new_name: str) -> None:\n",
        "        self.__name = new_name\n",
        "\n",
        "    def set_age(self, new_age: int) -> None:\n",
        "        self.__age = new_age\n",
        "\n",
        "    @classmethod\n",
        "    def get_employee_count(cls) -> int:\n",
        "        return cls._emp_count\n",
        "\n",
        "\n",
        "# Example usage\n",
        "e1 = Employee(\"Mr. X\", 22)\n",
        "e2 = Employee(\"Mr. Y\", 23)\n",
        "\n",
        "# Accessing data using getters\n",
        "print(\"e1's Name:\", e1.get_name())\n",
        "print(\"e2's Age:\", e2.get_age())\n"
      ]
    },
    {
      "cell_type": "code",
      "source": [],
      "metadata": {
        "id": "DRQ-gf31m-hC"
      },
      "execution_count": null,
      "outputs": []
    }
  ]
}