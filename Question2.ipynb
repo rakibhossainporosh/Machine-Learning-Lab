{
  "nbformat": 4,
  "nbformat_minor": 0,
  "metadata": {
    "colab": {
      "provenance": [],
      "authorship_tag": "ABX9TyNtXXnfifbMJz/9kaaz5ilu",
      "include_colab_link": true
    },
    "kernelspec": {
      "name": "python3",
      "display_name": "Python 3"
    },
    "language_info": {
      "name": "python"
    }
  },
  "cells": [
    {
      "cell_type": "markdown",
      "metadata": {
        "id": "view-in-github",
        "colab_type": "text"
      },
      "source": [
        "<a href=\"https://colab.research.google.com/github/rakibhossainporosh/Machine-Learning-Lab/blob/main/Question2.ipynb\" target=\"_parent\"><img src=\"https://colab.research.google.com/assets/colab-badge.svg\" alt=\"Open In Colab\"/></a>"
      ]
    },
    {
      "cell_type": "code",
      "execution_count": 1,
      "metadata": {
        "colab": {
          "base_uri": "https://localhost:8080/"
        },
        "id": "lofTfsJqfLNH",
        "outputId": "3ece746d-ee3f-42c2-bfc6-485dc53431bc"
      },
      "outputs": [
        {
          "output_type": "stream",
          "name": "stdout",
          "text": [
            "Enter first number: 20\n",
            "Enter second number: 30\n",
            "Enter third number: 4\n",
            "The largest number:  30.0\n"
          ]
        }
      ],
      "source": [
        "x = float(input(\"Enter first number: \"))\n",
        "y = float(input(\"Enter second number: \"))\n",
        "z = float(input(\"Enter third number: \"))\n",
        "\n",
        "if x >= y and x >= z:\n",
        "    largest = x\n",
        "elif y >= x and y >= z:\n",
        "    largest = y\n",
        "else:\n",
        "    largest = z\n",
        "print(\"The largest number: \", largest)"
      ]
    },
    {
      "cell_type": "code",
      "source": [],
      "metadata": {
        "id": "zl0t4IYbgL3_"
      },
      "execution_count": null,
      "outputs": []
    }
  ]
}