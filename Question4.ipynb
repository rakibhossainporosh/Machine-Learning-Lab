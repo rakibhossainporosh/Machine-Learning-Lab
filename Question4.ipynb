{
  "nbformat": 4,
  "nbformat_minor": 0,
  "metadata": {
    "colab": {
      "provenance": [],
      "authorship_tag": "ABX9TyODAWkexFf5QbI0IU8I9zD5",
      "include_colab_link": true
    },
    "kernelspec": {
      "name": "python3",
      "display_name": "Python 3"
    },
    "language_info": {
      "name": "python"
    }
  },
  "cells": [
    {
      "cell_type": "markdown",
      "metadata": {
        "id": "view-in-github",
        "colab_type": "text"
      },
      "source": [
        "<a href=\"https://colab.research.google.com/github/rakibhossainporosh/Machine-Learning-Lab-1/blob/main/Question4.ipynb\" target=\"_parent\"><img src=\"https://colab.research.google.com/assets/colab-badge.svg\" alt=\"Open In Colab\"/></a>"
      ]
    },
    {
      "cell_type": "code",
      "execution_count": 1,
      "metadata": {
        "colab": {
          "base_uri": "https://localhost:8080/"
        },
        "id": "Oh_mhrdzh03f",
        "outputId": "8b8e8029-630b-483a-853a-760ae9a899f8"
      },
      "outputs": [
        {
          "output_type": "stream",
          "name": "stdout",
          "text": [
            "Enter the data: 20 23 425 23 2 -5 9 3 0 -4\n",
            "ascending order:  [-5, -4, 0, 2, 3, 9, 20, 23, 23, 425]\n",
            "descending order:  [425, 23, 23, 20, 9, 3, 2, 0, -4, -5]\n"
          ]
        }
      ],
      "source": [
        "data = input(\"Enter the data: \").split()\n",
        "data = [int(a) for a in data]\n",
        "data.sort()\n",
        "print(\"ascending order: \" , data)\n",
        "data.sort(reverse=True)\n",
        "print(\"descending order: \" , data)"
      ]
    },
    {
      "cell_type": "code",
      "source": [],
      "metadata": {
        "id": "7vnbX_naiiOl"
      },
      "execution_count": null,
      "outputs": []
    }
  ]
}