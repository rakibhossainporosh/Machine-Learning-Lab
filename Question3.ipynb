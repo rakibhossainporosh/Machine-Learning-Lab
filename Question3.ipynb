{
  "nbformat": 4,
  "nbformat_minor": 0,
  "metadata": {
    "colab": {
      "provenance": [],
      "authorship_tag": "ABX9TyNHPMrNEGg+p8BQt0pQwZ1v",
      "include_colab_link": true
    },
    "kernelspec": {
      "name": "python3",
      "display_name": "Python 3"
    },
    "language_info": {
      "name": "python"
    }
  },
  "cells": [
    {
      "cell_type": "markdown",
      "metadata": {
        "id": "view-in-github",
        "colab_type": "text"
      },
      "source": [
        "<a href=\"https://colab.research.google.com/github/rakibhossainporosh/Machine-Learning-Lab/blob/main/Question3.ipynb\" target=\"_parent\"><img src=\"https://colab.research.google.com/assets/colab-badge.svg\" alt=\"Open In Colab\"/></a>"
      ]
    },
    {
      "cell_type": "code",
      "execution_count": null,
      "metadata": {
        "colab": {
          "base_uri": "https://localhost:8080/"
        },
        "id": "54HznfV1gdMn",
        "outputId": "4a8a07be-71cd-48ba-b970-d0be3935bb94"
      },
      "outputs": [
        {
          "output_type": "stream",
          "name": "stdout",
          "text": [
            "Enter the value:20\n",
            "Your value: 20\n",
            "Data type: <class 'str'>\n"
          ]
        }
      ],
      "source": [
        "num = input('Enter the value:')\n",
        "print('Your value:', num)\n",
        "print('Data type:', type(num))\n",
        "num = int(input(\"Enter the value:\"))\n",
        "print(\"Data type:\", type(num))"
      ]
    },
    {
      "cell_type": "code",
      "source": [],
      "metadata": {
        "id": "VXwQrtOMhSHl"
      },
      "execution_count": null,
      "outputs": []
    }
  ]
}