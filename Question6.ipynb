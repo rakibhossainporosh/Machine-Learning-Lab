{
  "nbformat": 4,
  "nbformat_minor": 0,
  "metadata": {
    "colab": {
      "provenance": [],
      "authorship_tag": "ABX9TyPb/BtbJfGHdm38pDXwkqQl",
      "include_colab_link": true
    },
    "kernelspec": {
      "name": "python3",
      "display_name": "Python 3"
    },
    "language_info": {
      "name": "python"
    }
  },
  "cells": [
    {
      "cell_type": "markdown",
      "metadata": {
        "id": "view-in-github",
        "colab_type": "text"
      },
      "source": [
        "<a href=\"https://colab.research.google.com/github/rakibhossainporosh/Machine-Learning-Lab-1/blob/main/Question6.ipynb\" target=\"_parent\"><img src=\"https://colab.research.google.com/assets/colab-badge.svg\" alt=\"Open In Colab\"/></a>"
      ]
    },
    {
      "cell_type": "code",
      "execution_count": 1,
      "metadata": {
        "colab": {
          "base_uri": "https://localhost:8080/"
        },
        "id": "sDPZLzGrkWxA",
        "outputId": "9ceb605e-2fad-4d10-9841-0d153ae9170d"
      },
      "outputs": [
        {
          "output_type": "stream",
          "name": "stdout",
          "text": [
            "Is 67 a prime number? Yes\n"
          ]
        }
      ],
      "source": [
        "def mysterious_function(x):\n",
        "    return x > 1 and all(x % y for y in range(2, int(x ** 0.5) + 1))\n",
        "# Example usage\n",
        "value = 67\n",
        "outcome = mysterious_function(value)\n",
        "print(f\"Is {value} a prime number? {'Yes' if outcome else 'No'}\")\n"
      ]
    },
    {
      "cell_type": "code",
      "source": [],
      "metadata": {
        "id": "N_RFFqN7ktQQ"
      },
      "execution_count": null,
      "outputs": []
    }
  ]
}