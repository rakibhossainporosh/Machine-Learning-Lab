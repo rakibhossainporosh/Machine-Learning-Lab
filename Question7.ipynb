{
  "nbformat": 4,
  "nbformat_minor": 0,
  "metadata": {
    "colab": {
      "provenance": [],
      "authorship_tag": "ABX9TyMofofNvnoWrhYMEz8Ns39I",
      "include_colab_link": true
    },
    "kernelspec": {
      "name": "python3",
      "display_name": "Python 3"
    },
    "language_info": {
      "name": "python"
    }
  },
  "cells": [
    {
      "cell_type": "markdown",
      "metadata": {
        "id": "view-in-github",
        "colab_type": "text"
      },
      "source": [
        "<a href=\"https://colab.research.google.com/github/rakibhossainporosh/Machine-Learning-Lab-1/blob/main/Question7.ipynb\" target=\"_parent\"><img src=\"https://colab.research.google.com/assets/colab-badge.svg\" alt=\"Open In Colab\"/></a>"
      ]
    },
    {
      "cell_type": "code",
      "execution_count": 1,
      "metadata": {
        "colab": {
          "base_uri": "https://localhost:8080/"
        },
        "id": "2BrZAla_k5KQ",
        "outputId": "0b8f7264-258d-4fd1-d76f-639b60e617a7"
      },
      "outputs": [
        {
          "output_type": "stream",
          "name": "stdout",
          "text": [
            "The mathematical constant π (pi) is approximately: 3.1415926536\n"
          ]
        }
      ],
      "source": [
        "# Import the standard math module\n",
        "import math\n",
        "\n",
        "def display_pi():\n",
        "    \"\"\"Displays the value of π using the math module.\"\"\"\n",
        "    print(f\"The mathematical constant π (pi) is approximately: {math.pi:.10f}\")\n",
        "\n",
        "# Call the function\n",
        "display_pi()"
      ]
    },
    {
      "cell_type": "code",
      "source": [],
      "metadata": {
        "id": "bkgxTUK_lPfe"
      },
      "execution_count": null,
      "outputs": []
    }
  ]
}